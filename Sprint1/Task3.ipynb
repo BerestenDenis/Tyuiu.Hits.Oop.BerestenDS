{
 "cells": [
  {
   "cell_type": "markdown",
   "metadata": {},
   "source": [
    "<h1 style=\"color:DodgerBlue\">Индивидальный проект</h1>"
   ]
  },
  {
   "cell_type": "markdown",
   "metadata": {},
   "source": [
    "<h2 style=\"color:DodgerBlue\">Название проекта:</h2>\n",
    "\n",
    "----\n",
    "\n",
    "### Вариант задания 5\n"
   ]
  },
  {
   "cell_type": "markdown",
   "metadata": {},
   "source": [
    "<h2 style=\"color:DodgerBlue\">Описание проекта:</h2>\n",
    "\n",
    "----\n",
    "\n",
    "Создать базовый класс Book в C#, который будет представлять информацию о\n",
    "книгах. На основе этого класса разработать 2-3 производных класса,\n",
    "демонстрирующих принципы наследования и полиморфизма. В каждом из классов\n",
    "должны быть реализованы новые атрибуты и методы, а также переопределены\n",
    "некоторые методы базового класса для демонстрации полиморфизма.\n",
    "Требования к базовому классу Book:\n",
    "• Атрибуты: Название (Title), Автор (Author), Год издания (YearOfPublication).\n",
    "• Методы:\n",
    "o GetInfo(): метод для получения информации о книге в виде строки.\n",
    "o Read(): метод для вывода сообщения о чтении книги.\n",
    "o Borrow(): метод для вывода сообщения о выдаче книги на чтение.\n",
    "Требования к производным классам:\n",
    "1. Учебник (Textbook): Должен содержать дополнительные атрибуты, такие как\n",
    "Предмет (Subject). Метод Read() должен быть переопределен для\n",
    "добавления информации о предмете при чтении учебника.\n",
    "2. Художественная литература (Fiction): Должен содержать дополнительные\n",
    "атрибуты, такие как Жанр (Genre). Метод Borrow() должен быть\n",
    "переопределен для добавления информации о жанре при выдаче книги на\n",
    "чтение.\n",
    "3. Научная литература (ScientificLiterature) (если требуется третий класс):\n",
    "Должен содержать дополнительные атрибуты, такие как Область науки\n",
    "(FieldOfScience). Метод GetInfo() должен быть переопределен для включения\n",
    "информации об области науки в описании книги.\n",
    "\n",
    "#### Дополнительное задание\n",
    "Добавьте к сущестующим классам конструктора классов с использованием гетторов и сетторов и реализуйте взаимодействие объектов между собой"
   ]
  },
  {
   "cell_type": "markdown",
   "metadata": {},
   "source": [
    "<h2 style=\"color:DodgerBlue\">Реализация:</h2>\n",
    "\n",
    "----"
   ]
  },
  {
   "cell_type": "code",
   "execution_count": null,
   "metadata": {
    "dotnet_interactive": {
     "language": "csharp"
    },
    "polyglot_notebook": {
     "kernelName": "csharp"
    }
   },
   "outputs": [
    {
     "name": "stdout",
     "output_type": "stream",
     "text": [
      "Добавлена: Искусство алгоритмов\n",
      "Добавлена: Химия для продвинутых\n",
      "\n",
      "Все книги в библиотеке:\n",
      "Книга: 'Искусство алгоритмов', Автор: Максим Козлов, Год: 2022\n",
      "Книга: 'Химия для продвинутых', Автор: Елена Смирнова, Год: 2021, Предмет: Химия\n",
      "Изучение учебника: 'Химия для продвинутых'\n"
     ]
    }
   ],
   "source": [
    "public class Book\n",
    "{\n",
    "    private string _title;\n",
    "    private string _author;\n",
    "    private int _yearOfPublication;\n",
    "\n",
    "\n",
    "    public string Title{get; set;}\n",
    "\n",
    "    public string Author{get; set;}\n",
    "\n",
    "    public int YearOfPublication{get; set;}\n",
    "\n",
    "\n",
    "    public Book(string title, string author, int yearOfPublication)\n",
    "    {\n",
    "        Title = title;\n",
    "        Author = author;\n",
    "        YearOfPublication = yearOfPublication;\n",
    "    }\n",
    "\n",
    "    public virtual string GetInfo() => $\"Книга: '{Title}', Автор: {Author}, Год: {YearOfPublication}\";\n",
    "    public virtual void Read() => Console.WriteLine($\"Чтение: '{Title}'\");\n",
    "    public virtual void Borrow() => Console.WriteLine($\"Книга '{Title}' выдана\");\n",
    "}\n",
    "\n",
    "public class Textbook : Book\n",
    "{\n",
    "    private string _subject;\n",
    "\n",
    "    public string Subject{get; set;}\n",
    "\n",
    "    public Textbook(string title, string author, int year, string subject) \n",
    "        : base(title, author, year)\n",
    "    {\n",
    "        Subject = subject;\n",
    "    }\n",
    "\n",
    "    public override string GetInfo() => base.GetInfo() + $\", Предмет: {Subject}\";\n",
    "    public override void Read() => Console.WriteLine($\"Изучение учебника: '{Title}'\");\n",
    "}\n",
    "\n",
    "public class Library\n",
    "{\n",
    "    private List<Book> _books = new List<Book>();\n",
    "\n",
    "    public void AddBook(Book book)\n",
    "    {\n",
    "        _books.Add(book);\n",
    "        Console.WriteLine($\"Добавлена: {book.Title}\");\n",
    "    }\n",
    "\n",
    "    public void ShowAllBooks()\n",
    "    {\n",
    "        Console.WriteLine(\"\\n Все книги в библиотеке:\");\n",
    "        foreach (var book in _books)\n",
    "        {\n",
    "            Console.WriteLine(book.GetInfo());\n",
    "        }\n",
    "    }\n",
    "\n",
    "    public void ReadRandomBook()\n",
    "    {\n",
    "        if (_books.Count > 0)\n",
    "        {\n",
    "            var randomBook = _books[new Random().Next(_books.Count)];\n",
    "            randomBook.Read();\n",
    "        }\n",
    "    }\n",
    "}\n",
    "\n",
    "\n",
    "public class LibraryDemo\n",
    "{\n",
    "    public static void Demonstrate()\n",
    "    {\n",
    "        Library library = new Library();\n",
    "\n",
    "        library.AddBook(new Book(\"Искусство алгоритмов\", \"Максим Козлов\", 2022));\n",
    "        library.AddBook(new Textbook(\"Химия для продвинутых\", \"Елена Смирнова\", 2021, \"Химия\"));\n",
    "        \n",
    "        library.ShowAllBooks();\n",
    "        library.ReadRandomBook();\n",
    "    }\n",
    "}\n",
    "\n",
    "LibraryDemo.Demonstrate();"
   ]
  }
 ],
 "metadata": {
  "kernelspec": {
   "display_name": ".NET (C#)",
   "language": "C#",
   "name": ".net-csharp"
  },
  "polyglot_notebook": {
   "kernelInfo": {
    "defaultKernelName": "csharp",
    "items": [
     {
      "aliases": [],
      "languageName": "csharp",
      "name": "csharp"
     }
    ]
   }
  }
 },
 "nbformat": 4,
 "nbformat_minor": 2
}
